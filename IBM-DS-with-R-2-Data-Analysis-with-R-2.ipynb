{
 "cells": [
  {
   "cell_type": "markdown",
   "metadata": {},
   "source": [
    "<center><img src=\"https://cf-courses-data.s3.us.cloud-object-storage.appdomain.cloud/assets/logos/SN_web_lightmode.png\" width=\"300\"></center><br/>\n",
    "\n",
    "# Assignment: Notebook for Peer Assignment\n",
    "\n",
    "Estimated time needed: 60 minutes\n"
   ]
  },
  {
   "cell_type": "markdown",
   "metadata": {},
   "source": [
    "# Assignment Scenario\n",
    "\n",
    "Congratulations! You have just been hired by a US Weather forecast firm as a data scientist.\n",
    "\n",
    "The company is considering the weather condition to help predict the possibility of precipitations, which involves using various local climatological variables, including temperature, wind speed, humidity, dew point, and pressure. The data you will be handling was collected by a NOAA weather station located at the John F. Kennedy International Airport in Queens, New York.\n",
    "\n",
    "Your task is to provide a high level analysis of weather data in JFK Airport. Your stakeholders want to understand the current and historical record of precipitations based on different variables. For now they are mainly interested in a macro-view of JFK Airport Weather, and how it relates to the possibility to rain because it will affect flight delays and etc.\n"
   ]
  },
  {
   "cell_type": "markdown",
   "metadata": {},
   "source": [
    "# Introduction\n",
    "\n",
    "This project relates to the NOAA Weather Dataset - JFK Airport (New York). The original dataset contains 114,546 hourly observations of 12 local climatological variables (such as temperature and wind speed) collected at JFK airport. This dataset can be obtained for free from the IBM Developer [Data Asset Exchange](https://developer.ibm.com/exchanges/data/all/jfk-weather-data/). \n",
    "\n",
    "For this project, you will be using a subset dataset, which contains 5727 rows (about 5% or original rows) and 9 columns. The end goal will be to predict the precipitation using some of the available features. In this project, you will practice reading data files, preprocessing data, creating models, improving models and evaluating them to ultimately choose the best model.\n",
    "\n"
   ]
  },
  {
   "cell_type": "markdown",
   "metadata": {},
   "source": [
    "\n",
    "## Table of Contents:\n",
    "\n",
    "Using this R notebook you will complete **10 tasks**:\n",
    "* [0. Import Modules](#cell0)\n",
    "* [1. Download and Unzip NOAA Weather Dataset](#cell1)\n",
    "* [2. Read Dataset into Project](#cell2)\n",
    "* [3. Select Subset of Columns](#cell3)\n",
    "* [4. Clean Up Columns](#cell4)\n",
    "* [5. Convert Columns to Numerical Types](#cell5)\n",
    "* [6. Rename Columns](#cell6)\n",
    "* [7. Exploratory Data Analysis](#cell7)\n",
    "* [8. Linear Regression](#cell8)\n",
    "* [9. Improve the Model](#cell9)\n",
    "* [10. Find Best Model](#cell10)\n",
    "\n",
    "\n",
    "<a id=\"cell0\"></a>\n",
    "## 0. Import required modules\n",
    "\n",
    "Tidymodels is a collection of packages that use tidyverse principles to easily do the entire modeling process from preprocessing initial data, to creating a model, to tunning hyperparameters. The tidymodels packages can be used to produce high quality statistical and machine learning models. Our Jupyter notebook platforms have a built-in Tidyverse, Tidymodels and rlang packages so we do not need to install these packages prior to loading library. However, if you decide to run this lab on your RStudio Desktop locally on your machine, you can remove the commented lines of code to install these packages before loading.\n",
    " \n"
   ]
  },
  {
   "cell_type": "code",
   "execution_count": 1,
   "metadata": {},
   "outputs": [
    {
     "ename": "SyntaxError",
     "evalue": "invalid syntax (1797538935.py, line 2)",
     "output_type": "error",
     "traceback": [
      "\u001b[0;36m  File \u001b[0;32m\"/tmp/ipykernel_513/1797538935.py\"\u001b[0;36m, line \u001b[0;32m2\u001b[0m\n\u001b[0;31m    if (!requireNamespace(\"rlang\", quietly = TRUE)) {\u001b[0m\n\u001b[0m        ^\u001b[0m\n\u001b[0;31mSyntaxError\u001b[0m\u001b[0;31m:\u001b[0m invalid syntax\n"
     ]
    }
   ],
   "source": [
    "# Install tidymodels if you haven't done so\n",
    "install.packages(\"rlang\")\n",
    "install.packages(\"tidymodels\")"
   ]
  },
  {
   "cell_type": "markdown",
   "metadata": {},
   "source": [
    "**Note: After installing the packages, restart the kernel. Without installing the packages again, load them. Tidyverse and Tidymodels will be the two main packages you will use.**\n"
   ]
  },
  {
   "cell_type": "code",
   "execution_count": null,
   "metadata": {},
   "outputs": [],
   "source": [
    "# Library for modeling\n",
    "library(tidymodels)\n",
    "\n",
    "# Load tidyverse\n",
    "library(tidyverse)"
   ]
  },
  {
   "cell_type": "markdown",
   "metadata": {},
   "source": [
    "\n",
    "### Understand the Dataset\n",
    "\n",
    "The original NOAA JFK dataset contains 114,546 hourly observations of various local climatological variables (including temperature, wind speed, humidity, dew point, and pressure). \n",
    "\n",
    "In this project you will use a sample dataset, which is around 293 KB. [Link to the sample dataset](https://dax-cdn.cdn.appdomain.cloud/dax-noaa-weather-data-jfk-airport/1.1.4/noaa-weather-sample-data.tar.gz).\n",
    "\n",
    "The sample contains 5727 rows (about 5% or original rows) and 9 columns, which are:\n",
    "- DATE\n",
    "- HOURLYDewPointTempF\n",
    "- HOURLYRelativeHumidity\n",
    "- HOURLYDRYBULBTEMPF\n",
    "- HOURLYWETBULBTEMPF\n",
    "- HOURLYPrecip\n",
    "- HOURLYWindSpeed\n",
    "- HOURLYSeaLevelPressure\n",
    "- HOURLYStationPressure\n",
    "\n",
    "The original dataset is much bigger. Feel free to explore the original dataset. [Link to the original dataset.](https://dax-cdn.cdn.appdomain.cloud/dax-noaa-weather-data-jfk-airport/1.1.4/noaa_weather.html) \n",
    "\n",
    "For more information about the dataset, checkout the [preview](https://dax-cdn.cdn.appdomain.cloud/dax-noaa-weather-data-jfk-airport/1.1.4/data-preview/index.html?_ga=2.176781478.281508226.1616293518-1509963377.1616117067&cm_mc_uid=90945889198916153255549&cm_mc_sid_50200000=64650651616293516933) of NOAA Weather - JFK Airport.\n"
   ]
  },
  {
   "cell_type": "markdown",
   "metadata": {},
   "source": [
    "<a id=\"cell1\"></a>\n",
    "\n",
    "## 1. Download NOAA Weather Dataset\n",
    "\n",
    "Use the `download.file()` function to download the sample dataset from the URL below.\n",
    "\n",
    "URL = 'https://dax-cdn.cdn.appdomain.cloud/dax-noaa-weather-data-jfk-airport/1.1.4/noaa-weather-sample-data.tar.gz'\n"
   ]
  },
  {
   "cell_type": "code",
   "execution_count": null,
   "metadata": {},
   "outputs": [],
   "source": [
    "# URL of the dataset\n",
    "URL <- 'https://dax-cdn.cdn.appdomain.cloud/dax-noaa-weather-data-jfk-airport/1.1.4/noaa-weather-sample-data.tar.gz'\n",
    "\n",
    "# Download the dataset\n",
    "download.file(URL, destfile = 'noaa-weather-sample-data.tar.gz', mode = 'wb')\n"
   ]
  },
  {
   "cell_type": "markdown",
   "metadata": {},
   "source": [
    "Untar the zipped file.\n"
   ]
  },
  {
   "cell_type": "code",
   "execution_count": null,
   "metadata": {},
   "outputs": [],
   "source": [
    "# Specify the file path\n",
    "file_path <- 'noaa-weather-sample-data.tar.gz'\n",
    "\n",
    "# Untar the file\n",
    "untar(file_path)\n"
   ]
  },
  {
   "cell_type": "markdown",
   "metadata": {},
   "source": [
    "<a id=\"cell2\"></a>\n",
    "## 2. Extract and Read into Project\n",
    "We start by reading in the raw dataset. You should specify the file name as \"noaa-weather-sample-data/jfk_weather_sample.csv\".\n"
   ]
  },
  {
   "cell_type": "code",
   "execution_count": null,
   "metadata": {},
   "outputs": [],
   "source": [
    "library(readr)\n",
    "\n",
    "# Specify the file path\n",
    "file_path <- 'noaa-weather-sample-data/jfk_weather_sample.csv'\n",
    "\n",
    "# Read the CSV file into a dataframe\n",
    "weather_data <- read_csv(file_path)"
   ]
  },
  {
   "cell_type": "markdown",
   "metadata": {},
   "source": [
    "Next, display the first few rows of the dataframe.\n"
   ]
  },
  {
   "cell_type": "code",
   "execution_count": null,
   "metadata": {},
   "outputs": [],
   "source": [
    "head(weather_data, 10)"
   ]
  },
  {
   "cell_type": "markdown",
   "metadata": {},
   "source": [
    "Also, take a `glimpse` of the dataset to see the different column data types and make sure it is the correct subset dataset with about 5700 rows and 9 columns.\n"
   ]
  },
  {
   "cell_type": "code",
   "execution_count": null,
   "metadata": {},
   "outputs": [],
   "source": [
    "str(weather_data)\n",
    "\n",
    "# Summary of the dataframe (for numeric columns)\n",
    "summary(weather_data)\n",
    "\n",
    "# Check the dimensions of the dataframe (number of rows and columns)\n",
    "dim(weather_data)"
   ]
  },
  {
   "cell_type": "markdown",
   "metadata": {},
   "source": [
    "<a id=\"cell3\"></a>\n",
    "## 3. Select Subset of Columns\n",
    "\n",
    "The end goal of this project will be to predict `HOURLYprecip` (precipitation) using a few other variables. Before you can do this, you first need to preprocess the dataset. Section 3 to section 6 focuses on preprocessing.\n",
    "\n",
    "The first step in preprocessing is to select a subset of data columns and inspect the column types.\n",
    "\n",
    "The key columns that we will explore in this project are:\n",
    "- HOURLYRelativeHumidity\n",
    "- HOURLYDRYBULBTEMPF\n",
    "- HOURLYPrecip\n",
    "- HOURLYWindSpeed\n",
    "- HOURLYStationPressure\n",
    "\n",
    "Data Glossary:\n",
    "- 'HOURLYRelativeHumidity' is the relative humidity given to the nearest whole percentage.\n",
    "- 'HOURLYDRYBULBTEMPF' is the dry-bulb temperature and is commonly used as the standard air temperature reported. It is given here in whole degrees Fahrenheit.\n",
    "- 'HOURLYPrecip' is the amount of precipitation in inches to hundredths over the past hour. For certain automated stations, precipitation will be reported at sub-hourly intervals (e.g. every 15 or 20 minutes) as an accumulated amount of all precipitation within the preceding hour. A “T” indicates a trace amount of precipitation.\n",
    "- 'HOURLYWindSpeed' is the speed of the wind at the time of observation given in miles per hour (mph).\n",
    "- 'HOURLYStationPressure' is the atmospheric pressure observed at the station during the time of observation. Given in inches of Mercury (in Hg).\n",
    "\n",
    "`Select` those five columns and store the modified dataframe as a new variable.\n"
   ]
  },
  {
   "cell_type": "code",
   "execution_count": null,
   "metadata": {},
   "outputs": [],
   "source": [
    "selected_columns <- c(\"HOURLYRelativeHumidity\", \"HOURLYDRYBULBTEMPF\", \"HOURLYPrecip\", \"HOURLYWindSpeed\", \"HOURLYStationPressure\")\n",
    "weather_subset <- weather_data[selected_columns]"
   ]
  },
  {
   "cell_type": "markdown",
   "metadata": {},
   "source": [
    "Show the first 10 rows of this new dataframe.\n"
   ]
  },
  {
   "cell_type": "code",
   "execution_count": null,
   "metadata": {},
   "outputs": [],
   "source": [
    "head(weather_subset, 10)"
   ]
  },
  {
   "cell_type": "markdown",
   "metadata": {},
   "source": [
    "<a id=\"cell4\"></a>\n",
    "## 4. Clean Up Columns\n",
    "\n",
    "From the dataframe preview above, we can see that the column `HOURLYPrecip` - which is the hourly measure of precipitation levels - contains both `NA` and `T` values. `T` specifies *trace amounts of precipitation* (meaning essentially no precipitation), while `NA` means *not available*, and is used to denote missing values. Additionally, some values also have \"s\" at the end of them, indicating that the precipitation was snow. \n",
    "\n",
    "Inspect the unique values present in the column `HOURLYPrecip` (with `unique(dataframe$column)`) to see these values.\n"
   ]
  },
  {
   "cell_type": "code",
   "execution_count": null,
   "metadata": {},
   "outputs": [],
   "source": [
    "unique_values <- unique(weather_subset$HOURLYPrecip)\n",
    "unique_values"
   ]
  },
  {
   "cell_type": "markdown",
   "metadata": {},
   "source": [
    "Having characters in values (like the \"T\" and \"s\" that you see in the unique values) will cause problems when you create a model because values for precipitation should be numerical. So you need to fix these values that have characters. \n",
    "\n",
    "Now, for the column `HOURLYPrecip`:\n",
    "1. Replace all the `T` values with \"0.0\" and \n",
    "2. Remove \"s\" from values like \"0.02s\". In R, you can use the method `str_remove(column, pattern = \"s$\")` to remove the character \"s\" from the end of values. The \"$\" tells R to match to the end of values. The `pattern` is a regex pattern. Look at [here](https://www.rdocumentation.org/packages/stringi/versions/1.5.3/topics/about_search_regex) for more information about regex and matching to strings in R.\n",
    "\n",
    "Remember that you can use `tidyverse`'s  `mutate()` to update columns.\n",
    "\n",
    "You can check your work by checking if unique values of `HOURLYPrecip` still contain any `T` or `s`. Store the modified dataframe as a new variable.\n"
   ]
  },
  {
   "cell_type": "code",
   "execution_count": null,
   "metadata": {},
   "outputs": [],
   "source": [
    "# Load required libraries if not already loaded\n",
    "library(dplyr)\n",
    "library(stringr)\n",
    "\n",
    "# Make a copy of weather_subset to work with\n",
    "weather_cleaned <- weather_subset\n",
    "\n",
    "# Replace \"T\" values with \"0.0\" in HOURLYPrecip\n",
    "weather_cleaned <- weather_cleaned %>%\n",
    "  mutate(HOURLYPrecip = ifelse(HOURLYPrecip == \"T\", \"0.0\", HOURLYPrecip))\n",
    "\n",
    "# Remove \"s\" from values like \"0.02s\"\n",
    "weather_cleaned <- weather_cleaned %>%\n",
    "  mutate(HOURLYPrecip = str_remove(HOURLYPrecip, pattern = \"s$\"))\n",
    "\n",
    "# Check unique values in HOURLYPrecip column to verify\n",
    "unique_values_cleaned <- unique(weather_cleaned$HOURLYPrecip)\n",
    "unique_values_cleaned"
   ]
  },
  {
   "cell_type": "markdown",
   "metadata": {},
   "source": [
    "<a id=\"cell5\"></a>\n",
    "## 5. Convert Columns to Numerical Types\n",
    "Now that you have removed the characters in the `HOURLYPrecip` column, you can safely covert the column to a numeric type.\n",
    "\n",
    "First, check the types of the columns. You will notice that all are `dbl` (double or numeric) except for `HOURLYPrecip`, which is `chr` (character or string). Use the `glimpse` function from Tidyverse.\n"
   ]
  },
  {
   "cell_type": "code",
   "execution_count": 2,
   "metadata": {},
   "outputs": [
    {
     "ename": "SyntaxError",
     "evalue": "invalid syntax (1228444521.py, line 8)",
     "output_type": "error",
     "traceback": [
      "\u001b[0;36m  File \u001b[0;32m\"/tmp/ipykernel_513/1228444521.py\"\u001b[0;36m, line \u001b[0;32m8\u001b[0m\n\u001b[0;31m    weather_cleaned <- weather_cleaned %>%\u001b[0m\n\u001b[0m                                        ^\u001b[0m\n\u001b[0;31mSyntaxError\u001b[0m\u001b[0;31m:\u001b[0m invalid syntax\n"
     ]
    }
   ],
   "source": [
    "# Load required libraries if not already loaded\n",
    "library(dplyr)\n",
    "\n",
    "# Display the current structure of the dataframe\n",
    "glimpse(weather_cleaned)\n",
    "\n",
    "# Convert HOURLYPrecip to numeric type\n",
    "weather_cleaned <- weather_cleaned %>%\n",
    "  mutate(HOURLYPrecip = as.numeric(HOURLYPrecip))\n",
    "\n",
    "# Check the structure again to confirm the conversion\n",
    "glimpse(weather_cleaned)\n"
   ]
  },
  {
   "cell_type": "markdown",
   "metadata": {},
   "source": [
    "Convert `HOURLYPrecip` to the `numeric` type and store the cleaned dataframe as a new variable.\n"
   ]
  },
  {
   "cell_type": "code",
   "execution_count": null,
   "metadata": {},
   "outputs": [],
   "source": [
    "# Load required libraries if not already loaded\n",
    "library(dplyr)\n",
    "\n",
    "# Make a copy of weather_cleaned to work with\n",
    "weather_final <- weather_cleaned\n",
    "\n",
    "# Convert HOURLYPrecip to numeric type\n",
    "weather_final <- weather_final %>%\n",
    "  mutate(HOURLYPrecip = as.numeric(HOURLYPrecip))\n",
    "\n",
    "# Check the structure of weather_final to confirm the conversion\n",
    "glimpse(weather_final)\n"
   ]
  },
  {
   "cell_type": "markdown",
   "metadata": {},
   "source": [
    "We can now see that all fields have numerical data type.\n"
   ]
  },
  {
   "cell_type": "code",
   "execution_count": null,
   "metadata": {},
   "outputs": [],
   "source": []
  },
  {
   "cell_type": "markdown",
   "metadata": {},
   "source": [
    "<a id=\"cell6\"></a>\n",
    "## 6. Rename Columns\n",
    "Let's rename the following columns as:\n",
    "- 'HOURLYRelativeHumidity' to 'relative_humidity'\n",
    "- 'HOURLYDRYBULBTEMPF' to 'dry_bulb_temp_f'\n",
    "- 'HOURLYPrecip' to 'precip'\n",
    "- 'HOURLYWindSpeed' to 'wind_speed'\n",
    "- 'HOURLYStationPressure' to 'station_pressure'\n",
    "\n",
    "You can use `dplyr::rename()`. Then, store the final dataframe as a new variable.\n"
   ]
  },
  {
   "cell_type": "code",
   "execution_count": null,
   "metadata": {},
   "outputs": [],
   "source": [
    "# Load required libraries if not already loaded\n",
    "library(dplyr)\n",
    "\n",
    "# Make a copy of weather_final to work with\n",
    "weather_final_renamed <- weather_final\n",
    "\n",
    "# Rename columns\n",
    "weather_final_renamed <- weather_final_renamed %>%\n",
    "  rename(\n",
    "    relative_humidity = HOURLYRelativeHumidity,\n",
    "    dry_bulb_temp_f = HOURLYDRYBULBTEMPF,\n",
    "    precip = HOURLYPrecip,\n",
    "    wind_speed = HOURLYWindSpeed,\n",
    "    station_pressure = HOURLYStationPressure\n",
    "  )\n",
    "\n",
    "# Display the structure of weather_final_renamed to verify column names\n",
    "glimpse(weather_final_renamed)\n"
   ]
  },
  {
   "cell_type": "markdown",
   "metadata": {},
   "source": [
    "<a id=\"cell7\"></a>\n",
    "## 7. Exploratory Data Analysis\n",
    "Now that you have finished preprocessing the dataset, you can can start exploring the columns more.\n",
    "\n",
    "First, split the data into a training and testing set. Splitting a dataset is done randomly, so to have reproducible results set the seed = 1234. Also, use 80% of the data for training.\n"
   ]
  },
  {
   "cell_type": "code",
   "execution_count": null,
   "metadata": {},
   "outputs": [],
   "source": [
    "# Load required libraries\n",
    "library(rsample)\n",
    "\n",
    "# Set seed for reproducibility\n",
    "set.seed(1234)\n",
    "\n",
    "# Split the data into training (80%) and testing (20%) sets\n",
    "data_split <- initial_split(weather_final_renamed, prop = 0.8)\n",
    "\n",
    "# Extract the training and testing datasets\n",
    "train_data <- training(data_split)\n",
    "test_data <- testing(data_split)\n",
    "\n",
    "# Check the dimensions of the datasets\n",
    "dim(train_data)\n",
    "dim(test_data)\n"
   ]
  },
  {
   "cell_type": "markdown",
   "metadata": {},
   "source": [
    "Next, looking at just the **training set**, plot histograms or box plots of the variables (`relative_humidity`, `dry_bulb_temp_f`, `precip`, `wind_speed`,  `station_pressure`) for an intial look of their distributions using `tidyverse`'s `ggplot`. Leave the testing set as is because it is good practice to not see the testing set until evaluating the final model.\n"
   ]
  },
  {
   "cell_type": "code",
   "execution_count": null,
   "metadata": {},
   "outputs": [],
   "source": [
    "# Load required libraries if not already loaded\n",
    "library(ggplot2)\n",
    "library(dplyr)\n",
    "\n",
    "# Plot histograms for each variable\n",
    "train_data %>%\n",
    "  ggplot(aes(x = relative_humidity)) +\n",
    "  geom_histogram(binwidth = 5, fill = \"skyblue\", color = \"black\") +\n",
    "  labs(title = \"Distribution of Relative Humidity\")\n",
    "\n",
    "train_data %>%\n",
    "  ggplot(aes(x = dry_bulb_temp_f)) +\n",
    "  geom_histogram(binwidth = 2, fill = \"lightgreen\", color = \"black\") +\n",
    "  labs(title = \"Distribution of Dry Bulb Temperature (F)\")\n",
    "\n",
    "train_data %>%\n",
    "  ggplot(aes(x = precip)) +\n",
    "  geom_histogram(binwidth = 0.1, fill = \"lightcoral\", color = \"black\") +\n",
    "  labs(title = \"Distribution of Precipitation\")\n",
    "\n",
    "train_data %>%\n",
    "  ggplot(aes(x = wind_speed)) +\n",
    "  geom_histogram(binwidth = 1, fill = \"lightyellow\", color = \"black\") +\n",
    "  labs(title = \"Distribution of Wind Speed\")\n",
    "\n",
    "train_data %>%\n",
    "  ggplot(aes(x = station_pressure)) +\n",
    "  geom_histogram(binwidth = 0.01, fill = \"lightblue\", color = \"black\") +\n",
    "  labs(title = \"Distribution of Station Pressure\")\n",
    "\n",
    "# Plot boxplots for each variable\n",
    "train_data %>%\n",
    "  ggplot(aes(y = relative_humidity)) +\n",
    "  geom_boxplot(fill = \"skyblue\", color = \"black\") +\n",
    "  labs(title = \"Distribution of Relative Humidity\")\n",
    "\n",
    "train_data %>%\n",
    "  ggplot(aes(y = dry_bulb_temp_f)) +\n",
    "  geom_boxplot(fill = \"lightgreen\", color = \"black\") +\n",
    "  labs(title = \"Distribution of Dry Bulb Temperature (F)\")\n",
    "\n",
    "train_data %>%\n",
    "  ggplot(aes(y = precip)) +\n",
    "  geom_boxplot(fill = \"lightcoral\", color = \"black\") +\n",
    "  labs(title = \"Distribution of Precipitation\")\n",
    "\n",
    "train_data %>%\n",
    "  ggplot(aes(y = wind_speed)) +\n",
    "  geom_boxplot(fill =\n"
   ]
  },
  {
   "cell_type": "markdown",
   "metadata": {},
   "source": [
    "<a id=\"cell8\"></a>\n",
    "## 8. Linear Regression \n",
    "After exploring the dataset more, you are now ready to start creating models to predict the precipitation (`precip`).\n",
    "\n",
    "Create simple linear regression models where `precip` is the response variable and each of `relative_humidity`, `dry_bulb_temp_f`,`wind_speed` or `station_pressure` will be a predictor variable, e.g. `precip ~ relative_humidity`, `precip ~ dry_bulb_temp_f`, etc. for a total of four simple models. \n",
    "Additionally, visualize each simple model with a scatter plot.\n"
   ]
  },
  {
   "cell_type": "code",
   "execution_count": null,
   "metadata": {},
   "outputs": [],
   "source": [
    "# Load required libraries if not already loaded\n",
    "library(ggplot2)\n",
    "library(dplyr)\n",
    "\n",
    "# Fit linear regression model\n",
    "model1 <- lm(precip ~ relative_humidity, data = train_data)\n",
    "\n",
    "# Scatter plot for model 1\n",
    "ggplot(train_data, aes(x = relative_humidity, y = precip)) +\n",
    "  geom_point() +\n",
    "  geom_smooth(method = \"lm\", se = FALSE, color = \"blue\") +\n",
    "  labs(title = \"Linear Regression: precip ~ relative_humidity\",\n",
    "       x = \"Relative Humidity (%)\", y = \"Precipitation\")\n"
   ]
  },
  {
   "cell_type": "code",
   "execution_count": null,
   "metadata": {},
   "outputs": [],
   "source": [
    "# Fit linear regression model\n",
    "model2 <- lm(precip ~ dry_bulb_temp_f, data = train_data)\n",
    "\n",
    "# Scatter plot for model 2\n",
    "ggplot(train_data, aes(x = dry_bulb_temp_f, y = precip)) +\n",
    "  geom_point() +\n",
    "  geom_smooth(method = \"lm\", se = FALSE, color = \"green\") +\n",
    "  labs(title = \"Linear Regression: precip ~ dry_bulb_temp_f\",\n",
    "       x = \"Dry Bulb Temperature (F)\", y = \"Precipitation\")\n"
   ]
  },
  {
   "cell_type": "code",
   "execution_count": null,
   "metadata": {},
   "outputs": [],
   "source": [
    "# Fit linear regression model\n",
    "model3 <- lm(precip ~ wind_speed, data = train_data)\n",
    "\n",
    "# Scatter plot for model 3\n",
    "ggplot(train_data, aes(x = wind_speed, y = precip)) +\n",
    "  geom_point() +\n",
    "  geom_smooth(method = \"lm\", se = FALSE, color = \"red\") +\n",
    "  labs(title = \"Linear Regression: precip ~ wind_speed\",\n",
    "       x = \"Wind Speed (mph)\", y = \"Precipitation\")\n"
   ]
  },
  {
   "cell_type": "code",
   "execution_count": null,
   "metadata": {},
   "outputs": [],
   "source": [
    "# Fit linear regression model\n",
    "model4 <- lm(precip ~ station_pressure, data = train_data)\n",
    "\n",
    "# Scatter plot for model 4\n",
    "ggplot(train_data, aes(x = station_pressure, y = precip)) +\n",
    "  geom_point() +\n",
    "  geom_smooth(method = \"lm\", se = FALSE, color = \"purple\") +\n",
    "  labs(title = \"Linear Regression: precip ~ station_pressure\",\n",
    "       x = \"Station Pressure (in Hg)\", y = \"Precipitation\")\n"
   ]
  },
  {
   "cell_type": "markdown",
   "metadata": {},
   "source": [
    "<a id=\"cell9\"></a>\n",
    "## 9. Improve the Model\n",
    "Now, try improving the simple models you created in the previous section. \n",
    "\n",
    "Create at least two more models, each model should use at least one of the different techniques:\n",
    "1. Add more features/predictors\n",
    "2. Add regularization (L1, L2 or a mix)\n",
    "3. Add a polynomial component\n",
    "\n",
    "Also, for each of the models you create, check the model performance using the **training set** and a metric like MSE, RMSE, or R-squared.\n",
    "\n",
    "Consider using `tidymodels` if you choose to add regularization and tune lambda.\n"
   ]
  },
  {
   "cell_type": "code",
   "execution_count": null,
   "metadata": {},
   "outputs": [],
   "source": [
    "# Load required libraries if not already loaded\n",
    "library(tidymodels)\n",
    "library(glmnet)\n",
    "library(dplyr)\n",
    "\n",
    "# Model 1: Multiple Predictors\n",
    "formula1 <- as.formula(\"precip ~ relative_humidity + dry_bulb_temp_f + wind_speed + station_pressure\")\n",
    "model1_multiple <- lm(formula1, data = train_data)\n",
    "\n",
    "# Check model performance on training set\n",
    "train_data <- train_data %>%\n",
    "  mutate(pred_model1 = predict(model1_multiple))\n",
    "train_rmse <- sqrt(mean((train_data$precip - train_data$pred_model1)^2))\n",
    "train_rmse\n",
    "\n",
    "# Model 2: Lasso Regularization\n",
    "x <- model.matrix(precip ~ ., data = train_data)[,-1]\n",
    "y <- train_data$precip\n",
    "model2_lasso <- glmnet(x, y, alpha = 1)\n",
    "cv_model2 <- cv.glmnet(x, y, alpha = 1)\n",
    "best_lambda <- cv_model2$lambda.min\n",
    "model2_lasso_best <- glmnet(x, y, alpha = 1, lambda = best_lambda)\n",
    "train_pred_lasso <- predict(model2_lasso_best, s = best_lambda, newx = x)\n",
    "train_rmse_lasso <- sqrt(mean((y - train_pred_lasso)^2))\n",
    "train_rmse_lasso\n",
    "\n",
    "# Model 3: Polynomial Component\n",
    "model3_poly <- lm(precip ~ poly(dry_bulb_temp_f, degree = 2), data = train_data)\n",
    "train_data <- train_data %>%\n",
    "  mutate(pred_poly = predict(model3_poly))\n",
    "train_rmse_poly <- sqrt(mean((train_data$precip - train_data$pred_poly)^2))\n",
    "train_rmse_poly\n"
   ]
  },
  {
   "cell_type": "markdown",
   "metadata": {},
   "source": [
    "<a id=\"cell10\"></a>\n",
    "## 10. Find Best Model\n",
    "Compare the regression metrics of each model from section 9 to find the best model overall. To do this, \n",
    "\n",
    "1. Evaluate the models on the **testing set** using at least one metric (like MSE, RMSE or R-squared).\n",
    "2. After calculating the metrics on the testing set for each model, print them out in as a table to easily compare. You can use something like:\n",
    "```\n",
    "model_names <- c(\"model_1\", \"model_2\", \"model_3\")\n",
    "train_error <- c(\"model_1_value\", \"model_2_value\", \"model_3_value\")\n",
    "test_error <- c(\"model_1_value\", \"model_2_value\", \"model_3_value\")\n",
    "comparison_df <- data.frame(model_names, train_error, test_error)\n",
    "```\n",
    "3. Finally, from the comparison table you create, conclude which model performed the best.\n"
   ]
  },
  {
   "cell_type": "code",
   "execution_count": null,
   "metadata": {},
   "outputs": [],
   "source": [
    "# Load required libraries if not already loaded\n",
    "library(tidymodels)\n",
    "library(glmnet)\n",
    "library(dplyr)\n",
    "\n",
    "# Fit Model 1: Multiple Predictors\n",
    "formula1 <- as.formula(\"precip ~ relative_humidity + dry_bulb_temp_f + wind_speed + station_pressure\")\n",
    "model1_multiple <- lm(formula1, data = train_data)\n",
    "\n",
    "# Fit Model 2: Lasso Regularization\n",
    "x <- model.matrix(precip ~ ., data = train_data)[,-1]\n",
    "y <- train_data$precip\n",
    "model2_lasso <- glmnet(x, y, alpha = 1)\n",
    "cv_model2 <- cv.glmnet(x, y, alpha = 1)\n",
    "best_lambda <- cv_model2$lambda.min\n",
    "model2_lasso_best <- glmnet(x, y, alpha = 1, lambda = best_lambda)\n",
    "\n",
    "# Fit Model 3: Polynomial Component\n",
    "model3_poly <- lm(precip ~ poly(dry_bulb_temp_f, degree = 2), data = train_data)\n",
    "\n",
    "# Evaluate models on the testing set\n",
    "# Model 1: Multiple Predictors\n",
    "test_data <- test_data %>%\n",
    "  mutate(pred_model1 = predict(model1_multiple, newdata = test_data))\n",
    "test_rmse_model1 <- sqrt(mean((test_data$precip - test_data$pred_model1)^2))\n",
    "\n",
    "# Model 2: Lasso Regularization\n",
    "x_test <- model.matrix(precip ~ ., data = test_data)[,-1]\n",
    "test_pred_lasso <- predict(model2_lasso_best, s = best_lambda, newx = x_test)\n",
    "test_rmse_model2 <- sqrt(mean((test_data$precip - test_pred_lasso)^2))\n",
    "\n",
    "# Model 3: Polynomial Component\n",
    "test_data <- test_data %>%\n",
    "  mutate(pred_poly = predict(model3_poly, newdata = test_data))\n",
    "test_rmse_model3 <- sqrt(mean((test_data$precip - test_data$pred_poly)^2))\n",
    "\n",
    "# Create comparison table\n",
    "model_names <- c(\"Model 1 (Multiple Predictors)\", \"Model 2 (Lasso Regularization)\", \"Model 3 (Polynomial Component)\")\n",
    "train_error <- c(train_rmse, train_rmse_lasso, train_rmse_poly)\n",
    "test_error <- c(test_rmse_model1, test_rmse_model2, test_rmse_model3)\n",
    "\n",
    "comparison_df <- data.frame(model_names, train_error, test_error)\n",
    "\n",
    "# Print comparison table\n",
    "print(comparison_df)\n",
    "\n",
    "# Conclude which model performed the best\n",
    "best_model <- comparison_df$model_names[which.min(comparison_df$test_error)]\n",
    "cat(\"\\nThe best performing model on the testing set is:\", best_model, \"\\n\")"
   ]
  },
  {
   "cell_type": "markdown",
   "metadata": {},
   "source": [
    "## Author(s)\n",
    "\n",
    "<h4> Yiwen Li </h4>\n",
    "\n",
    "## Contributions\n",
    "\n",
    "<h4> Tiffany Zhu </h4>\n",
    "\n",
    "## <h3 align=\"center\"> © IBM Corporation 2021. All rights reserved. <h3/>\n"
   ]
  }
 ],
 "metadata": {
  "kernelspec": {
   "display_name": "Python",
   "language": "python",
   "name": "conda-env-python-py"
  },
  "language_info": {
   "codemirror_mode": {
    "name": "ipython",
    "version": 3
   },
   "file_extension": ".py",
   "mimetype": "text/x-python",
   "name": "python",
   "nbconvert_exporter": "python",
   "pygments_lexer": "ipython3",
   "version": "3.7.12"
  }
 },
 "nbformat": 4,
 "nbformat_minor": 4
}
